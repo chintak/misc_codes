{
 "cells": [
  {
   "cell_type": "code",
   "execution_count": 1,
   "metadata": {
    "collapsed": true
   },
   "outputs": [],
   "source": [
    "%load_ext autoreload\n",
    "%autoreload 2"
   ]
  },
  {
   "cell_type": "code",
   "execution_count": 16,
   "metadata": {
    "collapsed": false
   },
   "outputs": [],
   "source": [
    "from __future__ import division\n",
    "import numpy as np\n",
    "from scipy import stats\n",
    "import caffe\n",
    "from augmentImages import process_img\n",
    "from utils import files_list\n",
    "from joblib import Parallel, delayed\n",
    "import matplotlib.pyplot as plt\n",
    "\n",
    "%matplotlib inline"
   ]
  },
  {
   "cell_type": "code",
   "execution_count": 3,
   "metadata": {
    "collapsed": true
   },
   "outputs": [],
   "source": [
    "caffe.set_device(0)\n",
    "caffe.set_mode_gpu()"
   ]
  },
  {
   "cell_type": "code",
   "execution_count": null,
   "metadata": {
    "collapsed": true
   },
   "outputs": [],
   "source": [
    "im = caffe.io.load_image(\"/home/ubuntu/dataset/200_val/2/9952_left.jpeg\")\n",
    "plt.imshow(im);"
   ]
  },
  {
   "cell_type": "markdown",
   "metadata": {},
   "source": [
    "## Preprocess test images and make predictions on 5 randomly rotated images "
   ]
  },
  {
   "cell_type": "code",
   "execution_count": 4,
   "metadata": {
    "collapsed": true
   },
   "outputs": [],
   "source": [
    "model_path = \"/home/ubuntu/digits-server/digits/digits/jobs/20151216-183415-a343/snapshot_iter_26310.caffemodel\"\n",
    "proto_path = \"/home/ubuntu/digits-server/digits/digits/jobs/20151216-183415-a343/deploy.prototxt\"\n",
    "mean_path = \"/home/ubuntu/digits-server/digits/digits/jobs/20151216-180534-3e3b/mean.jpg\"\n",
    "test_path = \"/home/ubuntu/dataset/test/test/\"\n",
    "job_id = model_path.split('/')[-2]"
   ]
  },
  {
   "cell_type": "code",
   "execution_count": 5,
   "metadata": {
    "collapsed": false
   },
   "outputs": [],
   "source": [
    "net = caffe.Net(proto_path, model_path, caffe.TEST)"
   ]
  },
  {
   "cell_type": "code",
   "execution_count": 6,
   "metadata": {
    "collapsed": false
   },
   "outputs": [],
   "source": [
    "transformer = caffe.io.Transformer({'data': net.blobs['data'].data.shape})\n",
    "transformer.set_mean('data', caffe.io.load_image(mean_path).mean(0).mean(0))\n",
    "transformer.set_transpose('data', (2,0,1))\n",
    "transformer.set_channel_swap('data', (2,1,0))\n",
    "transformer.set_raw_scale('data', 255.0)"
   ]
  },
  {
   "cell_type": "code",
   "execution_count": null,
   "metadata": {
    "collapsed": false
   },
   "outputs": [],
   "source": [
    "net.blobs['data'].data[:] = np.asarray([transformer.preprocess('data', im), transformer.preprocess('data', im)])\n",
    "out = net.forward()\n",
    "print(\"Predicted class is #{}.\".format(out['prob'].argmax(1)))"
   ]
  },
  {
   "cell_type": "code",
   "execution_count": null,
   "metadata": {
    "collapsed": true
   },
   "outputs": [],
   "source": []
  },
  {
   "cell_type": "code",
   "execution_count": 34,
   "metadata": {
    "collapsed": false
   },
   "outputs": [],
   "source": [
    "def key_names(f1):\n",
    "    return int(f1[0].split('/')[-1].split('_')[0])"
   ]
  },
  {
   "cell_type": "code",
   "execution_count": 37,
   "metadata": {
    "collapsed": false
   },
   "outputs": [
    {
     "name": "stdout",
     "output_type": "stream",
     "text": [
      "Total number of test files: 53576\n"
     ]
    }
   ],
   "source": [
    "names = sorted(files_list(test_path, \"test\"), key=key_names)\n",
    "num_files = len(names)\n",
    "print \"Total number of test files: %d\" % num_files"
   ]
  },
  {
   "cell_type": "code",
   "execution_count": 8,
   "metadata": {
    "collapsed": true
   },
   "outputs": [],
   "source": [
    "scale = 180\n",
    "crop_shape = (255, 255)\n",
    "random_draws = 4\n",
    "batch_size = 40\n",
    "uniq_im_per_batch = batch_size // (random_draws + 1)"
   ]
  },
  {
   "cell_type": "code",
   "execution_count": 41,
   "metadata": {
    "collapsed": false
   },
   "outputs": [
    {
     "name": "stdout",
     "output_type": "stream",
     "text": [
      "1_right,1\n",
      "1_left,1\n",
      "2_left,1\n",
      "2_right,1\n",
      "3_left,1\n",
      "3_right,1\n",
      "4_right,1\n",
      "4_left,1\n"
     ]
    }
   ],
   "source": [
    "with Parallel(n_jobs=8) as parallel:\n",
    "    for i in xrange(0, num_files, uniq_im_per_batch):\n",
    "        upper_idx = min(i + uniq_im_per_batch, num_files)\n",
    "        files_batch = names[i:upper_idx]\n",
    "        num_uniq_im = (upper_idx - i)\n",
    "        ret = parallel(delayed(process_img)(fname_lab, crop_shape, scale, random_draws, \"test\", False) \n",
    "                       for fname_lab in files_batch)\n",
    "        ret = np.asarray(ret).reshape((num_uniq_im * (random_draws + 1), crop_shape[0], crop_shape[0], 3))\n",
    "        if ret.shape[0] < batch_size:\n",
    "            pad = np.zeros((batch_size - num_uniq_im, crop_shape[0], crop_shape[0], 3), dtype=ret.dtype)\n",
    "            ret = np.vstack((ret, pad))\n",
    "        assert ret.shape[0] == batch_size, (\"Error: the input batch has lesser number\"\n",
    "                                            \" of images than the expected batch size %d\" % (batch_size))\n",
    "        l = []\n",
    "        for j in range(batch_size):\n",
    "            l.append(transformer.preprocess('data', ret[j,:,:,:]))\n",
    "        net.blobs['data'].data[:] = np.asarray(l)\n",
    "        out = net.forward()\n",
    "        preds = np.asarray(out['prob'][:num_uniq_im * (random_draws + 1), :].argmax(1))\n",
    "        preds_im = stats.mode(preds.reshape((num_uniq_im, (random_draws + 1))), axis=1)[0]\n",
    "        for j in range(num_uniq_im):\n",
    "            print \"%s,%d\" % (files_batch[j][0].split('/')[-1].split('.')[0], preds_im[j])\n",
    "        break"
   ]
  },
  {
   "cell_type": "code",
   "execution_count": null,
   "metadata": {
    "collapsed": true
   },
   "outputs": [],
   "source": []
  },
  {
   "cell_type": "code",
   "execution_count": null,
   "metadata": {
    "collapsed": true
   },
   "outputs": [],
   "source": []
  },
  {
   "cell_type": "code",
   "execution_count": null,
   "metadata": {
    "collapsed": true
   },
   "outputs": [],
   "source": []
  },
  {
   "cell_type": "code",
   "execution_count": 52,
   "metadata": {
    "collapsed": true
   },
   "outputs": [],
   "source": [
    "im = caffe.io.load_image(\"/home/ubuntu/dataset/test/test/27096_right.jpeg\")"
   ]
  },
  {
   "cell_type": "code",
   "execution_count": 53,
   "metadata": {
    "collapsed": false
   },
   "outputs": [
    {
     "data": {
      "image/png": "[encoded data removed]",
      "text/plain": [
       "<matplotlib.figure.Figure at 0x7ff1f51acbd0>"
      ]
     },
     "metadata": {},
     "output_type": "display_data"
    }
   ],
   "source": [
    "plt.imshow(im);"
   ]
  },
  {
   "cell_type": "code",
   "execution_count": null,
   "metadata": {
    "collapsed": true
   },
   "outputs": [],
   "source": []
  },
  {
   "cell_type": "code",
   "execution_count": null,
   "metadata": {
    "collapsed": true
   },
   "outputs": [],
   "source": []
  }
 ],
 "metadata": {
  "kernelspec": {
   "display_name": "Python 2",
   "language": "python",
   "name": "python2"
  },
  "language_info": {
   "codemirror_mode": {
    "name": "ipython",
    "version": 2
   },
   "file_extension": ".py",
   "mimetype": "text/x-python",
   "name": "python",
   "nbconvert_exporter": "python",
   "pygments_lexer": "ipython2",
   "version": "2.7.6"
  }
 },
 "nbformat": 4,
 "nbformat_minor": 0
}

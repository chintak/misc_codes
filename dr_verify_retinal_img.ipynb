{
 "cells": [
  {
   "cell_type": "code",
   "execution_count": null,
   "metadata": {
    "collapsed": false
   },
   "outputs": [],
   "source": [
    "import os\n",
    "from utils import parse_folder\n",
    "from sklearn.svm import OneClassSVM\n",
    "from sklearn.grid_search import GridSearchCV\n",
    "from sklearn.metrics import classification_report\n",
    "import numpy as np\n",
    "import matplotlib.pyplot as plt\n",
    "import cv2\n",
    "\n",
    "%matplotlib inline"
   ]
  },
  {
   "cell_type": "code",
   "execution_count": null,
   "metadata": {
    "collapsed": true
   },
   "outputs": [],
   "source": [
    "import cPickle as pickle"
   ]
  },
  {
   "cell_type": "code",
   "execution_count": null,
   "metadata": {
    "collapsed": true
   },
   "outputs": [],
   "source": [
    "from joblib import Parallel, delayed"
   ]
  },
  {
   "cell_type": "code",
   "execution_count": null,
   "metadata": {
    "collapsed": true
   },
   "outputs": [],
   "source": [
    "in_folder = '/media/shared/dr/DiabeticRetinopathy/train_orig/'\n",
    "names = np.asarray(parse_folder(in_folder, \"jpeg\"))"
   ]
  },
  {
   "cell_type": "code",
   "execution_count": null,
   "metadata": {
    "collapsed": true
   },
   "outputs": [],
   "source": [
    "num_samples = 1000\n",
    "resize_size = (25, 25)\n",
    "train_split = 0.9"
   ]
  },
  {
   "cell_type": "code",
   "execution_count": null,
   "metadata": {
    "collapsed": false
   },
   "outputs": [],
   "source": [
    "idx = np.arange(names.shape[0])\n",
    "rng = np.random.RandomState(seed=12345)\n",
    "rng.shuffle(idx)\n",
    "X_names = names[idx[:num_samples]]"
   ]
  },
  {
   "cell_type": "code",
   "execution_count": null,
   "metadata": {
    "collapsed": true
   },
   "outputs": [],
   "source": [
    "def load_img(fname):\n",
    "    img = cv2.imread(fname, 0)\n",
    "    im = cv2.resize(img, resize_size).ravel().astype(np.float32)\n",
    "#     im[im==0] = im[im!=0].mean()\n",
    "    im = im / 255.\n",
    "    return im"
   ]
  },
  {
   "cell_type": "code",
   "execution_count": null,
   "metadata": {
    "collapsed": false
   },
   "outputs": [],
   "source": [
    "# a = load_img(X_names[0])\n",
    "# plt.imshow(a.reshape(resize_size))\n",
    "# plt.colorbar()"
   ]
  },
  {
   "cell_type": "code",
   "execution_count": null,
   "metadata": {
    "collapsed": false
   },
   "outputs": [],
   "source": [
    "with Parallel(n_jobs=-1) as parallel:\n",
    "    X_unnorm = parallel(delayed(load_img)(fname)\n",
    "                 for fname in list(X_names))\n",
    "    X_unnorm = np.asarray(list(X_unnorm), dtype=np.float32)"
   ]
  },
  {
   "cell_type": "code",
   "execution_count": null,
   "metadata": {
    "collapsed": true
   },
   "outputs": [],
   "source": [
    "train_samp = int(train_split * num_samples)\n",
    "X_unnorm_train = X_unnorm[:train_samp]\n",
    "X_unnorm_val = X_unnorm[train_samp + 1:]"
   ]
  },
  {
   "cell_type": "code",
   "execution_count": null,
   "metadata": {
    "collapsed": false
   },
   "outputs": [],
   "source": [
    "# X_mean = X_unnorm_train.mean(axis=0)\n",
    "# X_std = X_unnorm_train.std(axis=0)\n",
    "# X_train = (X_unnorm_train - X_mean) / X_std\n",
    "# X_val = (X_unnorm_val - X_mean) / X_std\n",
    "X_train = X_unnorm_train\n",
    "X_val = X_unnorm_val"
   ]
  },
  {
   "cell_type": "code",
   "execution_count": null,
   "metadata": {
    "collapsed": false
   },
   "outputs": [],
   "source": [
    "# a = load_img(X_names[1])\n",
    "# plt.imshow(X_train[1].reshape(resize_size))"
   ]
  },
  {
   "cell_type": "code",
   "execution_count": null,
   "metadata": {
    "collapsed": false
   },
   "outputs": [],
   "source": [
    "param_grid = {'nu': [0.005, 0.01, 0.05, .1],\n",
    "              'gamma': [0.001, 0.005, 0.01, 0.05, 0.1], }\n",
    "\n",
    "for nu in param_grid['nu']:\n",
    "    for gamma in param_grid['gamma']:\n",
    "        clf = OneClassSVM(nu=nu, kernel=\"rbf\", gamma=gamma)\n",
    "        clf.fit(X_train)\n",
    "        print \"##########\"\n",
    "        print \"nu: %f and gamma: %f\" % (nu, gamma)\n",
    "        print \"Error training: %d/%d\" % (X_train[clf.predict(X_train)==-1].shape[0], X_train.shape[0])\n",
    "        print \"Error training: %d/%d\" % (X_val[clf.predict(X_val)==-1].shape[0], X_val.shape[0])"
   ]
  },
  {
   "cell_type": "code",
   "execution_count": null,
   "metadata": {
    "collapsed": false
   },
   "outputs": [],
   "source": [
    "# One class SVM\n",
    "clf = OneClassSVM(nu=0.01, kernel=\"rbf\", gamma=0.01)\n",
    "clf.fit(X_train)"
   ]
  },
  {
   "cell_type": "code",
   "execution_count": null,
   "metadata": {
    "collapsed": false
   },
   "outputs": [],
   "source": [
    "print \"Error training: %d/%d\" % (X_train[clf.predict(X_train)==-1].shape[0], X_train.shape[0])\n",
    "print \"Error training: %d/%d\" % (X_val[clf.predict(X_val)==-1].shape[0], X_val.shape[0])"
   ]
  },
  {
   "cell_type": "code",
   "execution_count": null,
   "metadata": {
    "collapsed": false
   },
   "outputs": [],
   "source": [
    "pickle.dump(clf, open('retinal_img_clf.pkl', 'wb'))"
   ]
  },
  {
   "cell_type": "code",
   "execution_count": null,
   "metadata": {
    "collapsed": false
   },
   "outputs": [],
   "source": [
    "clf2 = pickle.load(open('full_retinal_img_clf.pkl', 'rb'))"
   ]
  },
  {
   "cell_type": "code",
   "execution_count": null,
   "metadata": {
    "collapsed": false
   },
   "outputs": [],
   "source": [
    "print \"Error training: %d/%d\" % (X_train[clf2.predict(X_train)==-1].shape[0], X_train.shape[0])\n",
    "print \"Error training: %d/%d\" % (X_val[clf2.predict(X_val)==-1].shape[0], X_val.shape[0])"
   ]
  }
 ],
 "metadata": {
  "kernelspec": {
   "display_name": "Python 2",
   "language": "python",
   "name": "python2"
  },
  "language_info": {
   "codemirror_mode": {
    "name": "ipython",
    "version": 2
   },
   "file_extension": ".py",
   "mimetype": "text/x-python",
   "name": "python",
   "nbconvert_exporter": "python",
   "pygments_lexer": "ipython2",
   "version": "2.7.6"
  }
 },
 "nbformat": 4,
 "nbformat_minor": 0
}
